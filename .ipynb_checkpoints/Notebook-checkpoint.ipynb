{
 "cells": [
  {
   "cell_type": "markdown",
   "metadata": {},
   "source": [
    "# INFO370 Problem Set 6: Linear Regression"
   ]
  },
  {
   "cell_type": "markdown",
   "metadata": {},
   "source": [
    "### Hansol Kim, Tristan Macelli, Kyle Kusche, Adrian Ionescu"
   ]
  },
  {
   "cell_type": "markdown",
   "metadata": {},
   "source": [
    "#### PLEASE READ: If you want to skip the wait time on rendering the cleaning of the variables, we have included a csv file that includes all of the variables from the assignment as well as the ones that we cleaned and used in our model. You can load that in below"
   ]
  },
  {
   "cell_type": "code",
   "execution_count": 61,
   "metadata": {},
   "outputs": [],
   "source": [
    "listings = pd.read_csv('./listings2.csv', sep='\\t')"
   ]
  },
  {
   "cell_type": "code",
   "execution_count": 1,
   "metadata": {},
   "outputs": [],
   "source": [
    "import numpy as np\n",
    "import pandas as pd\n",
    "import matplotlib.pyplot as plt\n",
    "%matplotlib inline\n",
    "import statsmodels.formula.api as smf"
   ]
  },
  {
   "cell_type": "markdown",
   "metadata": {},
   "source": [
    "## 1 Data description (15pt)"
   ]
  },
  {
   "cell_type": "markdown",
   "metadata": {},
   "source": [
    "#### 1. Load the data airbnb-seattle-listings-train.csv. Broadly describe the variables you see, their encoding, and discuss if these may be valuable in determining the price. For instance, you may want to thell that house_rules is text, and you may want to check if smoking allowed/not allowed is related to the price."
   ]
  },
  {
   "cell_type": "code",
   "execution_count": 58,
   "metadata": {},
   "outputs": [],
   "source": [
    "listings = pd.read_csv('airbnb-seattle-listings-train.csv', sep='\\t')"
   ]
  },
  {
   "cell_type": "markdown",
   "metadata": {},
   "source": [
    "After reading in the data, we learned that there are 106 variables for each airbnb. Some of these variables are only useful for backend such as 'id' and 'listing_url' while other variables such as 'description,' 'review_scores,' 'weekly_price,' and 'monthly_price' are useful for determining price. One example of a useful variable is 'review_scores_cleanliness' which is a float that tells the user the rating of how clean the airbnb is. The cleanliness score allows the seller to market their airbnb at a higher price."
   ]
  },
  {
   "cell_type": "markdown",
   "metadata": {},
   "source": [
    "#### 2. Consider how will you handle missing data. For instance, 95% of the 'square feet' observations are missing, 17% of 'security deposit' observations are missing. You lose too many observations if you just ignore those."
   ]
  },
  {
   "cell_type": "code",
   "execution_count": 3,
   "metadata": {},
   "outputs": [],
   "source": [
    "listings = listings.drop(\"square_feet\", axis=1)\n",
    "listings = listings.drop(\"thumbnail_url\", axis=1)\n",
    "listings = listings.drop(\"medium_url\", axis=1)\n",
    "listings = listings.drop(\"xl_picture_url\", axis=1)\n",
    "listings = listings.drop(\"host_acceptance_rate\", axis=1)\n",
    "listings = listings.drop(\"license\", axis=1)\n",
    "listings = listings.drop(\"host_about\", axis=1)\n",
    "listings = listings.drop(\"weekly_price\", axis=1)\n",
    "listings = listings.drop(\"monthly_price\", axis=1)"
   ]
  },
  {
   "cell_type": "markdown",
   "metadata": {},
   "source": [
    "Our group decided to delete any variables that are missing more than 20% of data and do not seem useful to the project. There are 15 out of 106 variables that are missing this much data, and we decided that 9 of these are unnecessary to the project. We got rid of 'square feet' because it was missing 95% of the data, and we got rid of the URL variables because we knew that these would not be useful for our analysis. We also decided that weekly and monthly price would not be necessary because we already have the daily price of AirBnB's, which is a more common way of deciding price."
   ]
  },
  {
   "cell_type": "markdown",
   "metadata": {},
   "source": [
    "#### 3. Consider which variables you are going to use below. For all of these, create a summary table that contains relevant summary information. In particular pay attention to the missing values. Note that missings may not just be coded as such, they may also be empty strings and values like 'N/A.' You may return to this point repeatedly as you develop your model."
   ]
  },
  {
   "cell_type": "markdown",
   "metadata": {},
   "source": [
    "The variables that we chose were beds, security deposit, zipcode, and score rating."
   ]
  },
  {
   "cell_type": "code",
   "execution_count": 4,
   "metadata": {},
   "outputs": [],
   "source": [
    "listings['security'] = listings.security_deposit"
   ]
  },
  {
   "cell_type": "code",
   "execution_count": 5,
   "metadata": {},
   "outputs": [
    {
     "name": "stderr",
     "output_type": "stream",
     "text": [
      "C:\\Users\\kyler\\Anaconda3\\lib\\site-packages\\ipykernel_launcher.py:9: SettingWithCopyWarning: \n",
      "A value is trying to be set on a copy of a slice from a DataFrame\n",
      "\n",
      "See the caveats in the documentation: http://pandas.pydata.org/pandas-docs/stable/indexing.html#indexing-view-versus-copy\n",
      "  if __name__ == '__main__':\n"
     ]
    }
   ],
   "source": [
    "for i in range(0, len(listings.security_deposit)):\n",
    "    var = listings.security_deposit[i]\n",
    "    \n",
    "    if (isinstance(var, str)):\n",
    "        var = listings.security_deposit[i][1:]\n",
    "        var = var.replace(',', '')\n",
    "        var = float(var)\n",
    "    \n",
    "    listings.security[i] = var"
   ]
  },
  {
   "cell_type": "code",
   "execution_count": 6,
   "metadata": {},
   "outputs": [],
   "source": [
    "median_deposit = listings.security.median()\n",
    "listings.security = listings.security.fillna(value = median_deposit)"
   ]
  },
  {
   "cell_type": "code",
   "execution_count": 7,
   "metadata": {},
   "outputs": [
    {
     "data": {
      "text/plain": [
       "count    7540.000000\n",
       "mean      249.131432\n",
       "std       354.117086\n",
       "min         0.000000\n",
       "25%         0.000000\n",
       "50%       200.000000\n",
       "75%       300.000000\n",
       "max      5000.000000\n",
       "Name: security, dtype: float64"
      ]
     },
     "execution_count": 7,
     "metadata": {},
     "output_type": "execute_result"
    }
   ],
   "source": [
    "listings.security.describe()"
   ]
  },
  {
   "cell_type": "code",
   "execution_count": 8,
   "metadata": {},
   "outputs": [
    {
     "data": {
      "text/plain": [
       "0    0.0\n",
       "dtype: float64"
      ]
     },
     "execution_count": 8,
     "metadata": {},
     "output_type": "execute_result"
    }
   ],
   "source": [
    "listings.security.mode()"
   ]
  },
  {
   "cell_type": "code",
   "execution_count": 9,
   "metadata": {},
   "outputs": [],
   "source": [
    "listings.beds = listings.beds.fillna(value = 1.0)"
   ]
  },
  {
   "cell_type": "code",
   "execution_count": 10,
   "metadata": {},
   "outputs": [
    {
     "data": {
      "text/plain": [
       "count    7540.000000\n",
       "mean        1.908488\n",
       "std         1.561527\n",
       "min         0.000000\n",
       "25%         1.000000\n",
       "50%         1.000000\n",
       "75%         2.000000\n",
       "max        49.000000\n",
       "Name: beds, dtype: float64"
      ]
     },
     "execution_count": 10,
     "metadata": {},
     "output_type": "execute_result"
    }
   ],
   "source": [
    "listings.beds.describe()"
   ]
  },
  {
   "cell_type": "code",
   "execution_count": 11,
   "metadata": {},
   "outputs": [
    {
     "data": {
      "text/plain": [
       "0    1.0\n",
       "dtype: float64"
      ]
     },
     "execution_count": 11,
     "metadata": {},
     "output_type": "execute_result"
    }
   ],
   "source": [
    "listings.beds.mode()"
   ]
  },
  {
   "cell_type": "code",
   "execution_count": 12,
   "metadata": {},
   "outputs": [
    {
     "data": {
      "text/plain": [
       "0    98122\n",
       "dtype: object"
      ]
     },
     "execution_count": 12,
     "metadata": {},
     "output_type": "execute_result"
    }
   ],
   "source": [
    "listings['zipcode'].mode()"
   ]
  },
  {
   "cell_type": "code",
   "execution_count": 13,
   "metadata": {},
   "outputs": [],
   "source": [
    "review_median = listings.review_scores_rating.median()\n",
    "listings.review_scores_rating = listings.review_scores_rating.fillna(value = review_median)"
   ]
  },
  {
   "cell_type": "code",
   "execution_count": 14,
   "metadata": {},
   "outputs": [
    {
     "data": {
      "text/plain": [
       "0    97.0\n",
       "dtype: float64"
      ]
     },
     "execution_count": 14,
     "metadata": {},
     "output_type": "execute_result"
    }
   ],
   "source": [
    "listings['review_scores_rating'].mode()"
   ]
  },
  {
   "cell_type": "markdown",
   "metadata": {},
   "source": [
    "Ther variables that we chose were Security Deposit Value, Number of Beds, Zipcodes, and the Review Score Rating. We chose these because we believe that they are all useful in representing individual AirBnB's.<br/><br/>\n",
    "There was not a lot cleaning we needed to do to the data because we chose variables that were both representative of things we consider important for price (like location, area, rating) and also fairly clean.\n",
    "Most of the cleaning involved resolving NaN values to something usable and converting strings to numeric values (e.g  for security deposits, filling NaN with the median price $200, stripping dollar sign, converting to float value)"
   ]
  },
  {
   "cell_type": "markdown",
   "metadata": {},
   "source": [
    "## 2 Model (60pt)"
   ]
  },
  {
   "cell_type": "markdown",
   "metadata": {},
   "source": [
    "#### 1. Either split your data into training and validation sets, or just use cross validation below"
   ]
  },
  {
   "cell_type": "code",
   "execution_count": 21,
   "metadata": {},
   "outputs": [],
   "source": [
    "import sklearn.linear_model as slm\n",
    "import sklearn.model_selection\n",
    "from sklearn.model_selection import train_test_split"
   ]
  },
  {
   "cell_type": "code",
   "execution_count": 16,
   "metadata": {},
   "outputs": [
    {
     "name": "stderr",
     "output_type": "stream",
     "text": [
      "C:\\Users\\kyler\\Anaconda3\\lib\\site-packages\\ipykernel_launcher.py:3: SettingWithCopyWarning: \n",
      "A value is trying to be set on a copy of a slice from a DataFrame\n",
      "\n",
      "See the caveats in the documentation: http://pandas.pydata.org/pandas-docs/stable/indexing.html#indexing-view-versus-copy\n",
      "  This is separate from the ipykernel package so we can avoid doing imports until\n"
     ]
    }
   ],
   "source": [
    "for i in range(0, len(listings.price)):\n",
    "    var = listings.price[i][1:]\n",
    "    listings.price[i] = var.replace(',', '')"
   ]
  },
  {
   "cell_type": "code",
   "execution_count": 22,
   "metadata": {},
   "outputs": [],
   "source": [
    "listings.price = listings.price.astype('float')"
   ]
  },
  {
   "cell_type": "code",
   "execution_count": 23,
   "metadata": {},
   "outputs": [],
   "source": [
    "# beds, security deposit, and review score rating\n",
    "X = np.stack((listings.beds.values, listings.security.values, listings.review_scores_rating.values), axis = 1)\n",
    "y = listings.price"
   ]
  },
  {
   "cell_type": "code",
   "execution_count": 25,
   "metadata": {},
   "outputs": [],
   "source": [
    "Xtr, Xte, ytr, yte = train_test_split(X, y, test_size = 0.2)"
   ]
  },
  {
   "cell_type": "code",
   "execution_count": 26,
   "metadata": {},
   "outputs": [
    {
     "data": {
      "text/plain": [
       "(1508, 3)"
      ]
     },
     "execution_count": 26,
     "metadata": {},
     "output_type": "execute_result"
    }
   ],
   "source": [
    "Xte.shape"
   ]
  },
  {
   "cell_type": "code",
   "execution_count": 27,
   "metadata": {},
   "outputs": [
    {
     "data": {
      "text/plain": [
       "(248.06192994041376, array([31.73974666,  0.04064945, -1.54608442]))"
      ]
     },
     "execution_count": 27,
     "metadata": {},
     "output_type": "execute_result"
    }
   ],
   "source": [
    "# Underfit or Overfit?\n",
    "m = slm.LinearRegression().fit(Xtr, ytr)\n",
    "m.intercept_, m.coef_"
   ]
  },
  {
   "cell_type": "markdown",
   "metadata": {},
   "source": [
    "#### 2. Develop the models. Report all the variables and how do you clean/encode those. While the exact details are visible in the code, explain the broad choices in text."
   ]
  },
  {
   "cell_type": "code",
   "execution_count": 28,
   "metadata": {},
   "outputs": [],
   "source": [
    "yhattr = m.predict(Xtr)"
   ]
  },
  {
   "cell_type": "code",
   "execution_count": 29,
   "metadata": {},
   "outputs": [
    {
     "data": {
      "text/plain": [
       "array([129.2581798 , 248.46762247, 150.15621365, ..., 132.35034863,\n",
       "       162.54401088, 130.80426422])"
      ]
     },
     "execution_count": 29,
     "metadata": {},
     "output_type": "execute_result"
    }
   ],
   "source": [
    "yhatte = m.predict(Xte)\n",
    "yhatte"
   ]
  },
  {
   "cell_type": "code",
   "execution_count": 30,
   "metadata": {},
   "outputs": [
    {
     "data": {
      "text/plain": [
       "195.1660384301557"
      ]
     },
     "execution_count": 30,
     "metadata": {},
     "output_type": "execute_result"
    }
   ],
   "source": [
    "rmsetr = np.sqrt(np.mean((yhattr - ytr) ** 2))\n",
    "rmsetr"
   ]
  },
  {
   "cell_type": "code",
   "execution_count": 31,
   "metadata": {},
   "outputs": [
    {
     "data": {
      "text/plain": [
       "159.78310804062895"
      ]
     },
     "execution_count": 31,
     "metadata": {},
     "output_type": "execute_result"
    }
   ],
   "source": [
    "rmsete = np.sqrt(np.mean((yhatte - yte) ** 2))\n",
    "rmsete"
   ]
  },
  {
   "cell_type": "code",
   "execution_count": 32,
   "metadata": {},
   "outputs": [
    {
     "name": "stderr",
     "output_type": "stream",
     "text": [
      "C:\\Users\\kyler\\Anaconda3\\lib\\site-packages\\sklearn\\model_selection\\_split.py:1978: FutureWarning: The default value of cv will change from 3 to 5 in version 0.22. Specify it explicitly to silence this warning.\n",
      "  warnings.warn(CV_WARNING, FutureWarning)\n"
     ]
    },
    {
     "data": {
      "text/plain": [
       "array([ 0.06866798, -0.07012243,  0.06911236])"
      ]
     },
     "execution_count": 32,
     "metadata": {},
     "output_type": "execute_result"
    }
   ],
   "source": [
    "#R2\n",
    "sklearn.model_selection.cross_val_score(m, Xte, yte, scoring = 'r2')"
   ]
  },
  {
   "cell_type": "code",
   "execution_count": 33,
   "metadata": {},
   "outputs": [
    {
     "data": {
      "text/plain": [
       "array([31.73974666,  0.04064945, -1.54608442])"
      ]
     },
     "execution_count": 33,
     "metadata": {},
     "output_type": "execute_result"
    }
   ],
   "source": [
    "#Coefficients\n",
    "m.coef_"
   ]
  },
  {
   "cell_type": "markdown",
   "metadata": {},
   "source": [
    "We calculated the model for the variables beds, security deposit, and the score rating versus the price for each AirBnB. By comparing the test and training data, we see that they have very similar and large Root Mean Squared Errors. Because they are similar means that the data is not overfit, but because it is not close to zero, we cannot confirm that it is underfit. To fix this, we must add more variables into our model."
   ]
  },
  {
   "cell_type": "markdown",
   "metadata": {},
   "source": [
    "#### 3. Report the final number of observations, the estimated coefficient values, adjusted R2, and RMSE on validataion data for three models:"
   ]
  },
  {
   "cell_type": "markdown",
   "metadata": {},
   "source": [
    "(a) a simple one that only contains a few most important variables/best predictors. What do you think are 2-3 best predictors in the data?"
   ]
  },
  {
   "cell_type": "markdown",
   "metadata": {},
   "source": [
    "In our above model, we had 1508 observations in our validation data. Our variable coefficients were beds at 27.2, security deposit at .051, and calculated score at -1.78. On the validation data, our RMSE was 168.38, and our R2 was 0.0512. Because the coefficient for beds was so high in our model, we believe that this variable is the most significant predictor for the price of AirBnB's"
   ]
  },
  {
   "cell_type": "markdown",
   "metadata": {},
   "source": [
    "(b) the full model: everything you consider useful."
   ]
  },
  {
   "cell_type": "code",
   "execution_count": 34,
   "metadata": {},
   "outputs": [
    {
     "name": "stderr",
     "output_type": "stream",
     "text": [
      "C:\\Users\\kyler\\Anaconda3\\lib\\site-packages\\ipykernel_launcher.py:10: SettingWithCopyWarning: \n",
      "A value is trying to be set on a copy of a slice from a DataFrame\n",
      "\n",
      "See the caveats in the documentation: http://pandas.pydata.org/pandas-docs/stable/indexing.html#indexing-view-versus-copy\n",
      "  # Remove the CWD from sys.path while we load stuff.\n"
     ]
    }
   ],
   "source": [
    "listings['cleaning'] = listings.cleaning_fee\n",
    "\n",
    "for i in range(0, len(listings.cleaning_fee)):\n",
    "    var = listings.cleaning_fee[i]\n",
    "    \n",
    "    if (isinstance(var, str)):\n",
    "        var = listings.cleaning_fee[i][1:]\n",
    "        var = float(var.replace(',', ''))\n",
    "    \n",
    "    listings.cleaning[i] = var"
   ]
  },
  {
   "cell_type": "code",
   "execution_count": 35,
   "metadata": {},
   "outputs": [],
   "source": [
    "cleaning_median = listings.cleaning.median()\n",
    "listings.cleaning = listings.cleaning.fillna(value = cleaning_median)"
   ]
  },
  {
   "cell_type": "code",
   "execution_count": 36,
   "metadata": {},
   "outputs": [],
   "source": [
    "listings[\"instant_bookable_int\"] = listings[\"instant_bookable\"]\n",
    "listings['instant_bookable_int'].replace('f', 0,inplace=True)\n",
    "listings['instant_bookable_int'].replace('t', 1,inplace=True)"
   ]
  },
  {
   "cell_type": "code",
   "execution_count": 37,
   "metadata": {},
   "outputs": [],
   "source": [
    "listings.host_has_profile_pic = listings.host_has_profile_pic.fillna(value = 't')"
   ]
  },
  {
   "cell_type": "code",
   "execution_count": 38,
   "metadata": {},
   "outputs": [],
   "source": [
    "listings[\"host_int\"] = listings[\"host_has_profile_pic\"]\n",
    "listings['host_int'].replace('f', 0,inplace=True)\n",
    "listings['host_int'].replace('t', 1,inplace=True)"
   ]
  },
  {
   "cell_type": "code",
   "execution_count": 39,
   "metadata": {},
   "outputs": [],
   "source": [
    "listings['guest_int'] = listings[\"require_guest_profile_picture\"]\n",
    "listings['guest_int'].replace('f', 0,inplace=True)\n",
    "listings['guest_int'].replace('t', 1,inplace=True)"
   ]
  },
  {
   "cell_type": "code",
   "execution_count": 40,
   "metadata": {},
   "outputs": [],
   "source": [
    "# Beds, Security Deposit, Review Scores, Cleaning Fee, Accommodates, Num of Reviews, Instant Bookable\n",
    "# Host Pic, Guest Pic\n",
    "X = np.stack((listings.beds.values, listings.security.values, listings.review_scores_rating.values, \n",
    "              listings.cleaning.values, listings.accommodates.values, listings.number_of_reviews,\n",
    "              listings.instant_bookable_int, listings.host_int, listings.guest_int), axis = 1)\n",
    "y = listings.price"
   ]
  },
  {
   "cell_type": "code",
   "execution_count": 41,
   "metadata": {},
   "outputs": [],
   "source": [
    "Xtr, Xte, ytr, yte = train_test_split(X, y, test_size = 0.2)"
   ]
  },
  {
   "cell_type": "code",
   "execution_count": 42,
   "metadata": {},
   "outputs": [
    {
     "data": {
      "text/plain": [
       "(85.46693572583625,\n",
       " array([-7.32892117e+00, -3.36988429e-03, -9.09000702e-01,  6.10891088e-01,\n",
       "         2.33464512e+01, -2.71221723e-01,  4.68992063e+01,  4.10464128e+01,\n",
       "         8.33854001e+00]))"
      ]
     },
     "execution_count": 42,
     "metadata": {},
     "output_type": "execute_result"
    }
   ],
   "source": [
    "m = slm.LinearRegression().fit(Xtr, ytr)\n",
    "m.intercept_, m.coef_"
   ]
  },
  {
   "cell_type": "code",
   "execution_count": 43,
   "metadata": {},
   "outputs": [],
   "source": [
    "# Saved our new variables along with the original in a new dataframe\n",
    "# this will save time rendering and cleaning the old variables\n",
    "listings.to_csv('listings2.csv', sep = '\\t')"
   ]
  },
  {
   "cell_type": "code",
   "execution_count": 44,
   "metadata": {},
   "outputs": [],
   "source": [
    "yhattr = m.predict(Xtr)\n",
    "yhatte = m.predict(Xte)"
   ]
  },
  {
   "cell_type": "code",
   "execution_count": 45,
   "metadata": {},
   "outputs": [
    {
     "data": {
      "text/plain": [
       "(211.5102948760872, 168.9900959050816)"
      ]
     },
     "execution_count": 45,
     "metadata": {},
     "output_type": "execute_result"
    }
   ],
   "source": [
    "rmsetr = np.sqrt(np.mean((yhattr - ytr) ** 2))\n",
    "rmsete = np.sqrt(np.mean((yhatte - yte) ** 2))\n",
    "rmsete, rmsetr"
   ]
  },
  {
   "cell_type": "code",
   "execution_count": 46,
   "metadata": {},
   "outputs": [
    {
     "name": "stderr",
     "output_type": "stream",
     "text": [
      "C:\\Users\\kyler\\Anaconda3\\lib\\site-packages\\sklearn\\model_selection\\_split.py:1978: FutureWarning: The default value of cv will change from 3 to 5 in version 0.22. Specify it explicitly to silence this warning.\n",
      "  warnings.warn(CV_WARNING, FutureWarning)\n"
     ]
    },
    {
     "data": {
      "text/plain": [
       "array([0.0484156 , 0.16228593, 0.18240417])"
      ]
     },
     "execution_count": 46,
     "metadata": {},
     "output_type": "execute_result"
    }
   ],
   "source": [
    "sklearn.model_selection.cross_val_score(m, Xte, yte, scoring = 'r2')"
   ]
  },
  {
   "cell_type": "code",
   "execution_count": 47,
   "metadata": {},
   "outputs": [
    {
     "data": {
      "text/plain": [
       "(1508, 9)"
      ]
     },
     "execution_count": 47,
     "metadata": {},
     "output_type": "execute_result"
    }
   ],
   "source": [
    "Xte.shape"
   ]
  },
  {
   "cell_type": "markdown",
   "metadata": {},
   "source": [
    "Number of observations for validation data is 1508. Our coefficients are Beds -5.68, Security Deposit .01, Review Scores -1.1, Cleaning Fee .63, Accommodates 20.5, Num of Reviews -.25, Instant Bookable 44.5, Host Pic 36.3, Guest Pic 7.7. For validation data, the R2 value is .187 and RMSE is 250.24. "
   ]
  },
  {
   "cell_type": "markdown",
   "metadata": {},
   "source": [
    "(c) something in between."
   ]
  },
  {
   "cell_type": "code",
   "execution_count": 48,
   "metadata": {},
   "outputs": [],
   "source": [
    "X = np.stack((listings.beds.values, listings.review_scores_rating.values, \n",
    "              listings.accommodates.values, listings.instant_bookable_int,\n",
    "              listings.host_int, listings.guest_int), axis = 1)\n",
    "y = listings.price"
   ]
  },
  {
   "cell_type": "code",
   "execution_count": 49,
   "metadata": {},
   "outputs": [],
   "source": [
    "Xtr, Xte, ytr, yte = train_test_split(X, y, test_size = 0.2)"
   ]
  },
  {
   "cell_type": "code",
   "execution_count": 50,
   "metadata": {},
   "outputs": [
    {
     "data": {
      "text/plain": [
       "(110.53302069792517,\n",
       " array([-3.44569456, -1.0185684 , 28.8441608 , 39.65210528, 33.38575229,\n",
       "        31.03813617]))"
      ]
     },
     "execution_count": 50,
     "metadata": {},
     "output_type": "execute_result"
    }
   ],
   "source": [
    "m = slm.LinearRegression().fit(Xtr, ytr)\n",
    "m.intercept_, m.coef_"
   ]
  },
  {
   "cell_type": "code",
   "execution_count": 51,
   "metadata": {},
   "outputs": [],
   "source": [
    "yhattr = m.predict(Xtr)\n",
    "yhatte = m.predict(Xte)"
   ]
  },
  {
   "cell_type": "code",
   "execution_count": 52,
   "metadata": {},
   "outputs": [
    {
     "data": {
      "text/plain": [
       "(242.682634421677, 164.22538741347245)"
      ]
     },
     "execution_count": 52,
     "metadata": {},
     "output_type": "execute_result"
    }
   ],
   "source": [
    "rmsetr = np.sqrt(np.mean((yhattr - ytr) ** 2))\n",
    "rmsete = np.sqrt(np.mean((yhatte - yte) ** 2))\n",
    "rmsete, rmsetr"
   ]
  },
  {
   "cell_type": "code",
   "execution_count": 53,
   "metadata": {},
   "outputs": [
    {
     "name": "stderr",
     "output_type": "stream",
     "text": [
      "C:\\Users\\kyler\\Anaconda3\\lib\\site-packages\\sklearn\\model_selection\\_split.py:1978: FutureWarning: The default value of cv will change from 3 to 5 in version 0.22. Specify it explicitly to silence this warning.\n",
      "  warnings.warn(CV_WARNING, FutureWarning)\n"
     ]
    },
    {
     "data": {
      "text/plain": [
       "array([0.02091451, 0.22858351, 0.0989012 ])"
      ]
     },
     "execution_count": 53,
     "metadata": {},
     "output_type": "execute_result"
    }
   ],
   "source": [
    "sklearn.model_selection.cross_val_score(m, Xte, yte, scoring = 'r2')"
   ]
  },
  {
   "cell_type": "code",
   "execution_count": 54,
   "metadata": {},
   "outputs": [
    {
     "data": {
      "text/plain": [
       "(1508, 6)"
      ]
     },
     "execution_count": 54,
     "metadata": {},
     "output_type": "execute_result"
    }
   ],
   "source": [
    "Xte.shape"
   ]
  },
  {
   "cell_type": "markdown",
   "metadata": {},
   "source": [
    "Number of observations for validation data is 1508. Our coefficients are Beds -5.5, Review Score -.98, Accommodates 30.9, Instant Bookable 34.96, Host Pic 49.69, Guest Pic Required 28.69. For validation data, the R2 value is .12, and the RMSE is 179."
   ]
  },
  {
   "cell_type": "markdown",
   "metadata": {},
   "source": [
    "#### 4. Interpret the coefficients of the reported models. Again, only interpret the most interesting/important ones, not all of those! Do the coefficient values differ between the models? Can you explain why?"
   ]
  },
  {
   "cell_type": "markdown",
   "metadata": {},
   "source": [
    "In the above models, the coefficient values differ between the models for the same variables. This is because when there are multiple variables in one model, they effect the relation between the fit and the data. This can be seen in part A when Beds had a large coefficient of 27.2, but in part B it had a coefficient of -5.68. It seems that in the first model, the beds variable had the largest influence on the spread of the data, but in the second model, it had very little influence."
   ]
  },
  {
   "cell_type": "markdown",
   "metadata": {},
   "source": [
    "#### 5. Use your models to predict the price. Report RMSE in the table above."
   ]
  },
  {
   "cell_type": "code",
   "execution_count": 65,
   "metadata": {},
   "outputs": [
    {
     "data": {
      "text/plain": [
       "(177.65649867374006, 167.7116366872086, 242.682634421677)"
      ]
     },
     "execution_count": 65,
     "metadata": {},
     "output_type": "execute_result"
    }
   ],
   "source": [
    "yhatte = m.predict(Xte)\n",
    "price_mean = yte.mean()\n",
    "predict_mean = yhatte.mean()\n",
    "rmsete = np.sqrt(np.mean((yhatte - yte) ** 2))\n",
    "price_mean, predict_mean, rmsete"
   ]
  },
  {
   "cell_type": "markdown",
   "metadata": {},
   "source": [
    "Using our best fit model, we learned that the actual mean price of the testing data is 177.66 dollars and the predicted mean is 167.71 dollars. Because the predicted price is very close to the actual price, our model is a good fit to the AirBnB data. Our RMSE for the testing data was 242.68."
   ]
  },
  {
   "cell_type": "markdown",
   "metadata": {},
   "source": [
    "## 3 Think (15pt)"
   ]
  },
  {
   "cell_type": "markdown",
   "metadata": {},
   "source": [
    "#### 1. does your model do a good job in predicting the prices?"
   ]
  },
  {
   "cell_type": "markdown",
   "metadata": {},
   "source": [
    "Yes, our final model does a good job at predicting prices. In part C above, our model has very similar RMSE's between the training and testing data, which indicates that our model is good. Training RMSE is 183.4 and Testing RMSE is 179.3, so although this model is slightly underfitted, it still shows very close values."
   ]
  },
  {
   "cell_type": "markdown",
   "metadata": {},
   "source": [
    "#### 2. who will your model be useful to"
   ]
  },
  {
   "cell_type": "markdown",
   "metadata": {},
   "source": [
    "#### (a) AirBnB hosts"
   ]
  },
  {
   "cell_type": "markdown",
   "metadata": {},
   "source": [
    "The AirBnB hosts will know which criteria that they must satisfy to rent out their property for the highest price possible."
   ]
  },
  {
   "cell_type": "markdown",
   "metadata": {},
   "source": [
    "#### (b) AirBnB customers"
   ]
  },
  {
   "cell_type": "markdown",
   "metadata": {},
   "source": [
    "The AirBnB customers will know how to find the lowest prices for properties and still fulfill all of their required needs."
   ]
  },
  {
   "cell_type": "markdown",
   "metadata": {},
   "source": [
    "#### 3. Did you include any other price-related variables, such as \"weekly price\" or \"security deposit\" in your model? Do you think it is a good idea to use these attributes while trying to predict price?"
   ]
  },
  {
   "cell_type": "markdown",
   "metadata": {},
   "source": [
    "We used the variables security deposit and cleaning fee in creating our models. It is difficult to tell if the security deposit effected the price because 17% of the data was missing. Also, the coefficients for both variables were very low, so I do not believe that they are helpful in predicting the price of AirBnBs. "
   ]
  },
  {
   "cell_type": "markdown",
   "metadata": {},
   "source": [
    "#### 4. Do you think this model can be used by Airbnb itself or the government?"
   ]
  },
  {
   "cell_type": "markdown",
   "metadata": {},
   "source": [
    "We believe that our model can be used by AirBnB to highlight the ways that users can promote their properties to make the most amount of profit. However, we do not think that the government could benefit from our model because we do not have enough conclusive information to assure that these tactics are directly linked to the price of real estate. We would need more time and perfection to create a tool for the government to use. Furthermore, the market (population of interest) for AirBnB is different than the market for the government."
   ]
  },
  {
   "cell_type": "markdown",
   "metadata": {},
   "source": [
    "#### 5. Do you see any ethical issues with this work?"
   ]
  },
  {
   "cell_type": "markdown",
   "metadata": {},
   "source": [
    "We do not see any ethical issues in this work. Although the data contained information of names and places, we did not use them in our analysis or our models."
   ]
  },
  {
   "cell_type": "markdown",
   "metadata": {},
   "source": [
    "## 4 Additional task (10pt)"
   ]
  },
  {
   "cell_type": "markdown",
   "metadata": {},
   "source": [
    "#### 1. load the testing data arbnb-seattle-listings-test.csv. This has exactly the same structure and variables as the original dataset."
   ]
  },
  {
   "cell_type": "code",
   "execution_count": null,
   "metadata": {},
   "outputs": [],
   "source": [
    "listtest = pd.read_csv('./arbnb-seattle-listings-test.csv', sep = '\\t')"
   ]
  },
  {
   "cell_type": "markdown",
   "metadata": {},
   "source": [
    "#### 2. compute RMSE on the testing dataset. This is the ultimate goodness measure of your model. Present it prominently in your report."
   ]
  },
  {
   "cell_type": "code",
   "execution_count": null,
   "metadata": {},
   "outputs": [],
   "source": []
  },
  {
   "cell_type": "markdown",
   "metadata": {},
   "source": [
    "#### 3. Do not tinker with the model any more. This was your final test."
   ]
  },
  {
   "cell_type": "code",
   "execution_count": null,
   "metadata": {},
   "outputs": [],
   "source": []
  }
 ],
 "metadata": {
  "kernelspec": {
   "display_name": "Python 3",
   "language": "python",
   "name": "python3"
  },
  "language_info": {
   "codemirror_mode": {
    "name": "ipython",
    "version": 3
   },
   "file_extension": ".py",
   "mimetype": "text/x-python",
   "name": "python",
   "nbconvert_exporter": "python",
   "pygments_lexer": "ipython3",
   "version": "3.7.3"
  }
 },
 "nbformat": 4,
 "nbformat_minor": 2
}
